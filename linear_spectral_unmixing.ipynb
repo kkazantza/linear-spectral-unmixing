{
 "cells": [
  {
   "cell_type": "markdown",
   "metadata": {},
   "source": [
    "linear Spectral Unmixing"
   ]
  },
  {
   "cell_type": "code",
   "execution_count": 4,
   "metadata": {},
   "outputs": [],
   "source": [
    "import scipy.optimize as opt\n",
    "import scipy.io as sio\n",
    "import numpy as np\n",
    "import scipy.optimize \n",
    "import matplotlib.pyplot as plt\n",
    "from scipy.optimize import nnls\n",
    "Pavia = sio.loadmat('PaviaU_cube.mat')\n",
    "HSI = Pavia['X'] #Pavia HSI : 300x200x103\n",
    "\n",
    "# pure spectra (endmembers) matrix: 103x9\n",
    "ends = sio.loadmat('PaviaU_endmembers.mat') \n",
    "endmembers = ends['endmembers']\n",
    "ground_truth= sio.loadmat('PaviaU_ground_truth.mat')\n",
    "labels=ground_truth['y']"
   ]
  },
  {
   "cell_type": "markdown",
   "metadata": {},
   "source": [
    "(A) <br>\n",
    "(a) Least Squares"
   ]
  },
  {
   "cell_type": "code",
   "execution_count": null,
   "metadata": {},
   "outputs": [],
   "source": [
    "theta = np.zeros((300,200,9))"
   ]
  },
  {
   "cell_type": "code",
   "execution_count": null,
   "metadata": {},
   "outputs": [],
   "source": [
    "def fit(theta,endmembers):\n",
    "    return np.dot(endmembers, theta.T)"
   ]
  },
  {
   "cell_type": "code",
   "execution_count": null,
   "metadata": {},
   "outputs": [],
   "source": [
    "def objective(theta, endmembers, HSI):\n",
    "    return np.linalg.norm(HSI - fit(theta,endmembers))"
   ]
  },
  {
   "cell_type": "code",
   "execution_count": null,
   "metadata": {},
   "outputs": [],
   "source": [
    "reconstruction_error_ls=np.zeros((300,200))\n",
    "abundance_map_ls=np.zeros((300,200,9))\n",
    "sum_err_ls=0\n",
    "for i in range(300):\n",
    "    for j in range(200):\n",
    "        if labels[i,j] != 0:\n",
    "            print(\"i,j\",i,j)\n",
    "            output=opt.minimize(fun=objective,args=(endmembers,HSI[i,j,:]),\n",
    "                               x0=theta[i,j,:],method='SLSQP')\n",
    "            reconstruction_error_ls[i,j]=output.fun\n",
    "            \n",
    "            abundance_map_ls[i,j]=output.x\n",
    "            print(\"pixel: \",i,j)\n",
    "            print(output)"
   ]
  },
  {
   "cell_type": "code",
   "execution_count": null,
   "metadata": {},
   "outputs": [],
   "source": [
    "sum_ls_err=0\n",
    "countnonzero=0\n",
    "# calculate average of all constructions errors per pixel\n",
    "for i in range(300):\n",
    "    for j in range(200):\n",
    "        if reconstruction_error_ls[i,j].any():\n",
    "            countnonzero+=1\n",
    "            sum_ls_err+=reconstruction_error_ls[i,j]\n"
   ]
  },
  {
   "cell_type": "code",
   "execution_count": null,
   "metadata": {},
   "outputs": [],
   "source": [
    "avg_ls=sum_ls_err/countnonzero\n",
    "avg_ls"
   ]
  },
  {
   "cell_type": "markdown",
   "metadata": {},
   "source": [
    "(b) Least squares imposing the sum-to-one constraint"
   ]
  },
  {
   "cell_type": "code",
   "execution_count": null,
   "metadata": {},
   "outputs": [],
   "source": [
    "cons = {'type': 'eq', 'fun': lambda theta: np.sum(theta) - 1}"
   ]
  },
  {
   "cell_type": "code",
   "execution_count": null,
   "metadata": {},
   "outputs": [],
   "source": [
    "reconstruction_error_eq_constr=np.zeros((300,200))\n",
    "abundance_map_eq_constr=np.zeros((300,200,9))\n",
    "for i in range(300):\n",
    "    for j in range(200):\n",
    "        if labels[i,j] != 0:\n",
    "            output=opt.minimize(fun=objective,args=(endmembers,HSI[i,j,:]),\n",
    "                               x0=theta[i,j,:],method='SLSQP',constraints=cons)\n",
    "            reconstruction_error_eq_constr[i,j]=output.fun\n",
    "            abundance_map_eq_constr[i,j]=output.x\n",
    "            print(\"pixel: \",i,j)\n",
    "            print(output)"
   ]
  },
  {
   "cell_type": "code",
   "execution_count": null,
   "metadata": {},
   "outputs": [],
   "source": [
    "sum_eq_cons_err=0\n",
    "countnonzero_eqcons=0\n",
    "# calculate average of all constructions errors per pixel\n",
    "for i in range(300):\n",
    "    for j in range(200):\n",
    "        if reconstruction_error_eq_constr[i,j].any():\n",
    "            countnonzero_eqcons+=1\n",
    "            sum_eq_cons_err+=reconstruction_error_eq_constr[i,j]\n",
    "\n",
    "avg_eq_cons=sum_eq_cons_err/countnonzero_eqcons\n",
    "avg_eq_cons"
   ]
  },
  {
   "cell_type": "markdown",
   "metadata": {},
   "source": [
    "(c) Least squares imposing the non-negativity constraint"
   ]
  },
  {
   "cell_type": "code",
   "execution_count": null,
   "metadata": {},
   "outputs": [],
   "source": [
    "bounds=((0, None),)*9\n",
    "\n",
    "reconstruction_error_ineq_constr=np.zeros((300,200))\n",
    "abundance_map_ineq_constr=np.zeros((300,200,9))\n",
    "for i in range(300):\n",
    "    for j in range(200):\n",
    "        if labels[i,j] != 0:\n",
    "            output=opt.minimize(fun=objective,args=(endmembers,HSI[i,j,:]),\n",
    "                               x0=theta[i,j,:],method='SLSQP',bounds=bounds)\n",
    "            reconstruction_error_ineq_constr[i,j]=output.fun\n",
    "            abundance_map_ineq_constr[i,j]=output.x\n",
    "            print(\"pixel: \",i,j)\n",
    "            print(output)"
   ]
  },
  {
   "cell_type": "code",
   "execution_count": null,
   "metadata": {},
   "outputs": [],
   "source": [
    "sum_ineq_cons_err=0\n",
    "countnonzero_ineqcons=0\n",
    "# calculate average of all constructions errors per pixel\n",
    "for i in range(300):\n",
    "    for j in range(200):\n",
    "        if reconstruction_error_ineq_constr[i,j].any():\n",
    "            countnonzero_ineqcons+=1\n",
    "            sum_ineq_cons_err+=reconstruction_error_ineq_constr[i,j]\n",
    "\n",
    "avg_ineq_cons=sum_ineq_cons_err/countnonzero_ineqcons\n",
    "avg_ineq_cons"
   ]
  },
  {
   "cell_type": "markdown",
   "metadata": {},
   "source": [
    "(c) Least squares imposing the non-negativity and sum-to-one constraint"
   ]
  },
  {
   "cell_type": "code",
   "execution_count": null,
   "metadata": {},
   "outputs": [],
   "source": [
    "bounds=((0, None),)*9\n",
    "cons = {'type': 'eq', 'fun': lambda theta: np.sum(theta) - 1}\n",
    "\n",
    "reconstruction_error_all_constr=np.zeros((300,200))\n",
    "abundance_map_all_constr=np.zeros((300,200,9))\n",
    "for i in range(300):\n",
    "    for j in range(200):\n",
    "        if labels[i,j] != 0:\n",
    "            output=opt.minimize(fun=objective,args=(endmembers,HSI[i,j,:]),\n",
    "                               x0=theta[i,j,:],method='SLSQP',bounds=bounds,constraints=cons)\n",
    "            reconstruction_error_all_constr[i,j]=output.fun\n",
    "            abundance_map_all_constr[i,j]=output.x\n",
    "            print(\"pixel: \",i,j)\n",
    "            print(output)"
   ]
  },
  {
   "cell_type": "code",
   "execution_count": null,
   "metadata": {},
   "outputs": [],
   "source": [
    "sum_all_cons_err=0\n",
    "countnonzero_allcons=0\n",
    "# calculate average of all constructions errors per pixel\n",
    "for i in range(300):\n",
    "    for j in range(200):\n",
    "        if reconstruction_error_all_constr[i,j].any():\n",
    "            countnonzero_allcons+=1\n",
    "            sum_all_cons_err+=reconstruction_error_all_constr[i,j]\n",
    "\n",
    "avg_all_cons=sum_all_cons_err/countnonzero_allcons\n",
    "avg_all_cons"
   ]
  },
  {
   "cell_type": "markdown",
   "metadata": {},
   "source": [
    "(e) Lasso"
   ]
  },
  {
   "cell_type": "code",
   "execution_count": 1,
   "metadata": {},
   "outputs": [],
   "source": [
    "from sklearn.linear_model import Lasso\n",
    "lasso = Lasso(alpha=0.2, normalize=True)"
   ]
  },
  {
   "cell_type": "markdown",
   "metadata": {},
   "source": [
    "* Lasso regression performs L1 regularization, i.e. it adds a factor of sum of absolute value of coefficients in the optimization objective"
   ]
  },
  {
   "cell_type": "code",
   "execution_count": null,
   "metadata": {},
   "outputs": [],
   "source": [
    "reconstruction_error_lasso=np.zeros((300,200))\n",
    "abundance_map_lasso=np.zeros((300,200,9))\n",
    "\n",
    "for i in range(300):\n",
    "    for j in range(200):\n",
    "        if labels[i,j] != 0:\n",
    "            lasso.fit(endmembers,HSI[i,j,:])\n",
    "            err=objective(lasso.coef_, endmembers, HSI[i,j,:])\n",
    "            reconstruction_error_lasso[i,j]=err\n",
    "            abundance_map_lasso[i,j]=lasso.coef_\n",
    "            print(\"pixel: \",i,j)\n",
    "            print(reconstruction_error_lasso[i,j])"
   ]
  },
  {
   "cell_type": "code",
   "execution_count": null,
   "metadata": {},
   "outputs": [],
   "source": [
    "sum_all_lasso=0\n",
    "countnonzero_lasso=0\n",
    "# calculate average of all constructions errors per pixel\n",
    "for i in range(300):\n",
    "    for j in range(200):\n",
    "        if reconstruction_error_lasso[i,j].any():\n",
    "            countnonzero_lasso+=1\n",
    "            sum_all_lasso+=reconstruction_error_lasso[i,j]\n",
    "\n",
    "avg_lasso=sum_all_lasso/countnonzero_lasso\n",
    "avg_lasso"
   ]
  },
  {
   "cell_type": "markdown",
   "metadata": {},
   "source": [
    "(B) Compare the results for the 5 methods applied. We have the following the results:"
   ]
  },
  {
   "cell_type": "markdown",
   "metadata": {},
   "source": [
    "* Least Squares <br>\n",
    "  __reconstruction error:__ 335.59216004398417 <br>\n",
    "  __indicative abundance maps__ <br>\n",
    "  __pixel(0,14)__array([ 2.40319839e+00, -1.98003744e-01,  1.80754118e+00,  6.54947180e-02,2.62016462e-04, -5.48216886e-02,  3.47221821e-01, -2.76945048e+00,-4.82494537e-01]) <br>\n",
    "  __pixel(100,180)__ array([-3.50675135, -0.18797048,  1.41721506,  0.04490052,  0.05868581,1.85615715,  1.51750446, -1.10907374,  1.51232401])"
   ]
  },
  {
   "cell_type": "markdown",
   "metadata": {},
   "source": [
    "* Least squares imposing the sum-to-one constraint <br>\n",
    "  __reconstruction error:__ 385.598558731914\n",
    "  __indicative abundance maps__ <br>\n",
    "  __pixel(0,14)__ array([ 3.17669041e+00, -2.62894368e-01,  2.05246859e+00,  7.52884689e-02,3.02680536e-03, -2.42458337e-02,  1.58568234e-01, -3.37202582e+00, -8.06876489e-01]) <br>\n",
    "  __pixel(100,180)__ array([ 0.41368273, -0.51668479,  2.65833194,  0.09457088,  0.07271173,2.01084241,  0.56098352, -4.16259194, -0.13184648])"
   ]
  },
  {
   "cell_type": "markdown",
   "metadata": {},
   "source": [
    "* Least squares imposing the non-negativity constraint <br>\n",
    "  __reconstruction error:__ 651.3103662374119 <br>\n",
    "  __indicative abundance maps__ <br>\n",
    "  __pixel(0,14)__ array([4.11051289e-07, 4.59893931e-08, 1.13491338e-01, 0.00000000e+00,8.69479316e-03, 0.00000000e+00, 7.32247327e-01, 4.44852340e-07,5.59459128e-01]) <br>\n",
    "  __pixel(100,180)__ array([1.08511163e-07, 1.69296254e-01, 2.03360088e-07, 3.89799958e-01,0.00000000e+00, 3.54908623e-01, 8.91299704e-08, 1.91703161e-07,0.00000000e+00])"
   ]
  },
  {
   "cell_type": "markdown",
   "metadata": {},
   "source": [
    "* Least squares imposing the non-negativity and sum-to-one constraint <br>\n",
    "  __reconstruction error:__ 1229.7602033939133 <br>\n",
    "  __indicative abundance maps__ <br>\n",
    "  __pixel(0,14)__ array([3.20873861e-20, 0.00000000e+00, 6.42217231e-01, 0.00000000e+00,7.49558697e-02, 2.22960495e-08, 0.00000000e+00, 4.78371015e-10,2.82826913e-01]) <br>\n",
    "  __pixel(100,180)__ array([8.27034964e-09, 2.04394137e-01, 0.00000000e+00, 3.87863466e-01,1.70488676e-08, 3.13757049e-01, 7.94898794e-09, 0.00000000e+00,9.39853729e-02])"
   ]
  },
  {
   "cell_type": "markdown",
   "metadata": {},
   "source": [
    "* Lasso <br>\n",
    "  __reconstruction error__ : 5522.237086140446 <br>\n",
    "  __indicative abundance maps__ <br>\n",
    "  pixel(0,14) array([ 0.        ,  0.        ,  0.18552524,  0.01152808, -0.01473208,0.        , -0.        ,  0.        ,  0.09995861])\n",
    "        \n",
    "  pixel(100,180) array([-0.        ,  0.        , -0.        ,  0.23101496,  0.02682174,0.84286301, -0.        , -0.        ,  0.74299624])"
   ]
  },
  {
   "cell_type": "markdown",
   "metadata": {},
   "source": [
    "We can conclude that the reconstruction of the lasso method, which optimize the function by using regularization with L1 norm, is the greatest among the rest of the methods.\n",
    "Also we can see that when imposing more costraints on the method the reconstruction error gets greater."
   ]
  }
 ],
 "metadata": {
  "kernelspec": {
   "display_name": "Python 3",
   "language": "python",
   "name": "python3"
  },
  "language_info": {
   "codemirror_mode": {
    "name": "ipython",
    "version": 3
   },
   "file_extension": ".py",
   "mimetype": "text/x-python",
   "name": "python",
   "nbconvert_exporter": "python",
   "pygments_lexer": "ipython3",
   "version": "3.7.0"
  }
 },
 "nbformat": 4,
 "nbformat_minor": 2
}
